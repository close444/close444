{
  "cells": [
    {
      "cell_type": "code",
      "execution_count": null,
      "metadata": {
        "id": "PciLE2ktqTbq"
      },
      "outputs": [],
      "source": [
        "import r"
      ]
    },
    {
      "cell_type": "code",
      "execution_count": null,
      "metadata": {
        "id": "yCe84Yhfqr_K"
      },
      "outputs": [],
      "source": [
        "library.dynam\n"
      ]
    },
    {
      "cell_type": "code",
      "execution_count": null,
      "metadata": {
        "id": "j9GMMXe3s7OK",
        "colab": {
          "base_uri": "https://localhost:8080/"
        },
        "outputId": "71fd0a2d-907e-4534-e057-0633af465df2"
      },
      "outputs": [
        {
          "output_type": "stream",
          "name": "stdout",
          "text": [
            "Mounted at /content/drive\n"
          ]
        }
      ],
      "source": [
        "from google.colab import drive\n",
        "drive.mount('/content/drive')"
      ]
    },
    {
      "cell_type": "code",
      "execution_count": null,
      "metadata": {
        "id": "ikC1DiWuu5Mc",
        "colab": {
          "base_uri": "https://localhost:8080/"
        },
        "outputId": "da2e69b2-515b-4d2c-f6dc-a84fc6f3a034"
      },
      "outputs": [
        {
          "output_type": "stream",
          "name": "stdout",
          "text": [
            "/bin/bash: line 1: /opt/bin/nvidia-smi: No such file or directory\n"
          ]
        }
      ],
      "source": [
        "# 查看显卡驱动\n",
        "!/opt/bin/nvidia-smi"
      ]
    },
    {
      "cell_type": "code",
      "execution_count": null,
      "metadata": {
        "id": "kO0iU1Bxy7q-"
      },
      "outputs": [],
      "source": [
        "\n",
        "import os as _os\n",
        "_os.environ['ENABLE_DIRECTORYPREFETCHER'] = '1'\n",
        "\n",
        "import findspark\n",
        "findspark.init()\n",
        "from pyspark import SparkContext\n",
        "sc = SparkContext(\"local\", \"count app\")\n",
        "words = sc.parallelize(\n",
        "    [\"scala\",\n",
        "     \"java\",\n",
        "     \"hadoop\",\n",
        "     \"spark\",\n",
        "     \"akka\",\n",
        "     \"spark vs hadoop\",\n",
        "     \"pyspark\",\n",
        "     \"pyspark and spark\"\n",
        "     ])\n",
        "counts = words.count()\n",
        "print(\"Number of elements in RDD -> %i\" % counts)\n",
        "\n"
      ]
    },
    {
      "cell_type": "code",
      "execution_count": null,
      "metadata": {
        "id": "jz8hbIE61RN2"
      },
      "outputs": [],
      "source": [
        "library(vroom)\n",
        "df = vroom(\"C:/Users/86155/Desktop/A_e_6.csv\")"
      ]
    },
    {
      "cell_type": "code",
      "execution_count": null,
      "metadata": {
        "id": "N-hhs4CqzGBI"
      },
      "outputs": [],
      "source": [
        "!git clone https://github.com/bulik/ldsc.git\n",
        "!cd ldsc\n"
      ]
    },
    {
      "cell_type": "code",
      "execution_count": null,
      "metadata": {
        "id": "H_aL4xe6mIe8",
        "colab": {
          "base_uri": "https://localhost:8080/"
        },
        "outputId": "872e4577-fa88-4444-c86d-055156924dad"
      },
      "outputs": [
        {
          "output_type": "stream",
          "name": "stdout",
          "text": [
            "\n",
            "CondaValueError: prefix already exists: /usr/local\n",
            "\n",
            "\n",
            "EnvironmentNameNotFound: Could not find conda environment: ldsc\n",
            "You can list all discoverable environments with `conda info --envs`.\n",
            "\n",
            "\n",
            "/bin/bash: line 1: ./ldsc.py: No such file or directory\n"
          ]
        }
      ],
      "source": [
        "!wget https://repo.anaconda.com/archive/Anaconda2-2019.10-Linux-x86_64.sh\n",
        "!chmod +x Anaconda2-2019.10-Linux-x86_64.sh\n",
        "!bash ./Anaconda2-2019.10-Linux-x86_64.sh -b -f -p /usr/local\n",
        "\n",
        "!conda env create --file environment.yml\n",
        "!source activate ldsc\n",
        "!./ldsc.py -h"
      ]
    },
    {
      "cell_type": "code",
      "execution_count": null,
      "metadata": {
        "id": "iJUImIF80FHm"
      },
      "outputs": [],
      "source": [
        "import sys\n",
        "sys.path.append(\"/root/miniconda3/bin\")"
      ]
    },
    {
      "cell_type": "code",
      "execution_count": null,
      "metadata": {
        "id": "aFkK-6Gqmgm6",
        "colab": {
          "base_uri": "https://localhost:8080/"
        },
        "outputId": "2a84527f-c6f3-481a-bb3f-3b427df436df"
      },
      "outputs": [
        {
          "output_type": "stream",
          "name": "stdout",
          "text": [
            "\n",
            "CondaValueError: prefix already exists: /usr/local\n",
            "\n"
          ]
        }
      ],
      "source": [
        "!conda env create --file environment.yml\n",
        "\n"
      ]
    },
    {
      "cell_type": "code",
      "execution_count": null,
      "metadata": {
        "colab": {
          "base_uri": "https://localhost:8080/"
        },
        "outputId": "c28d647f-ad83-483a-f175-82fd99537f6e",
        "id": "GyFTctSzr_U7"
      },
      "outputs": [
        {
          "output_type": "stream",
          "name": "stdout",
          "text": [
            "\n",
            "EnvironmentNameNotFound: Could not find conda environment: ldsc\n",
            "You can list all discoverable environments with `conda info --envs`.\n",
            "\n",
            "\n"
          ]
        }
      ],
      "source": [
        "!source activate ldsc"
      ]
    },
    {
      "cell_type": "code",
      "execution_count": null,
      "metadata": {
        "id": "pD0bjciXneEN"
      },
      "outputs": [],
      "source": [
        "./ldsc.py -h"
      ]
    },
    {
      "cell_type": "code",
      "execution_count": null,
      "metadata": {
        "id": "_YzkgVLtoEqP",
        "colab": {
          "base_uri": "https://localhost:8080/"
        },
        "outputId": "0052965b-1f04-41d2-ff8c-e2988224fa10"
      },
      "outputs": [
        {
          "output_type": "stream",
          "name": "stdout",
          "text": [
            "\n",
            "EnvironmentNameNotFound: Could not find conda environment: ldsc\n",
            "You can list all discoverable environments with `conda info --envs`.\n",
            "\n",
            "\n"
          ]
        }
      ],
      "source": [
        "!source activate ldsc"
      ]
    },
    {
      "cell_type": "code",
      "execution_count": null,
      "metadata": {
        "id": "YZ7tdvb4oSTd"
      },
      "outputs": [],
      "source": [
        "!conda activate"
      ]
    },
    {
      "cell_type": "code",
      "execution_count": null,
      "metadata": {
        "id": "bz1gqsb1q63M"
      },
      "outputs": [],
      "source": [
        "! conda init powershell"
      ]
    },
    {
      "cell_type": "code",
      "execution_count": null,
      "metadata": {
        "id": "iWb3oBMpsAPo",
        "colab": {
          "base_uri": "https://localhost:8080/"
        },
        "outputId": "0fe0dca8-5354-4451-9ff6-36c673e7ab7e"
      },
      "outputs": [
        {
          "output_type": "stream",
          "name": "stdout",
          "text": [
            "\n",
            "CondaValueError: prefix already exists: /usr/local\n",
            "\n"
          ]
        }
      ],
      "source": [
        "!conda env create --file environment.yml"
      ]
    },
    {
      "cell_type": "code",
      "execution_count": null,
      "metadata": {
        "id": "5aiGVc29tW7L"
      },
      "outputs": [],
      "source": [
        "# 防止环境变量冲突\n",
        "!unset PYTHONPATH\n",
        "!unset PYTHONHOME\n",
        "# 安装\n",
        "#sh Miniconda2-latest-Linux-x86_64.sh\n"
      ]
    },
    {
      "cell_type": "code",
      "execution_count": null,
      "metadata": {
        "id": "Ogv1k5Uctc84"
      },
      "outputs": [],
      "source": [
        "!conda env create --file environment.yml\n",
        "!source activate ldsc\n",
        "!./ldsc.py -h"
      ]
    },
    {
      "cell_type": "code",
      "execution_count": null,
      "metadata": {
        "id": "1oNmgrZjuAEl"
      },
      "outputs": [],
      "source": [
        "!conda env export > environment.yml"
      ]
    },
    {
      "cell_type": "code",
      "execution_count": null,
      "metadata": {
        "id": "f6G5UJ9KwRrv"
      },
      "outputs": [],
      "source": [
        "!conda init powershell"
      ]
    },
    {
      "cell_type": "code",
      "execution_count": null,
      "metadata": {
        "id": "q0MPOqNTx4pH",
        "colab": {
          "base_uri": "https://localhost:8080/"
        },
        "outputId": "d8ba4add-bc95-408d-98c0-13f5f4062234"
      },
      "outputs": [
        {
          "output_type": "stream",
          "name": "stdout",
          "text": [
            "\n",
            "CondaValueError: prefix already exists: /usr/local\n",
            "\n",
            "\n",
            "EnvironmentNameNotFound: Could not find conda environment: ldsc\n",
            "You can list all discoverable environments with `conda info --envs`.\n",
            "\n",
            "\n",
            "/bin/bash: line 1: ./ldsc.py: No such file or directory\n"
          ]
        }
      ],
      "source": [
        "!conda env create --file environment.yml\n",
        "!source activate ldsc\n",
        "!./ldsc.py -h\n",
        "\n",
        "\n",
        "\n"
      ]
    },
    {
      "cell_type": "code",
      "source": [
        "!anaconda-clean"
      ],
      "metadata": {
        "id": "5wH-3AET1vHG"
      },
      "execution_count": null,
      "outputs": []
    },
    {
      "cell_type": "code",
      "source": [
        "!apt-get re[move]（https://geek.csdn.net/educolumn/1017fe3bbe75a8f0c3f4fe48f3af73ee?spm=1055.2569.3001.10083）  --yes conda"
      ],
      "metadata": {
        "id": "m1-l_I_k2ye0",
        "colab": {
          "base_uri": "https://localhost:8080/"
        },
        "outputId": "6a20809c-dc32-4487-d76c-2ed66a67e6d1"
      },
      "execution_count": null,
      "outputs": [
        {
          "output_type": "stream",
          "name": "stdout",
          "text": [
            "E: Invalid operation re[move]（https://geek.csdn.net/educolumn/1017fe3bbe75a8f0c3f4fe48f3af73ee?spm=1055.2569.3001.10083）\n"
          ]
        }
      ]
    },
    {
      "cell_type": "code",
      "source": [
        "!conda --version"
      ],
      "metadata": {
        "id": "FZLJlJh_All5",
        "colab": {
          "base_uri": "https://localhost:8080/"
        },
        "outputId": "722ba999-649d-418e-eee2-bacd443065ee"
      },
      "execution_count": null,
      "outputs": [
        {
          "output_type": "stream",
          "name": "stdout",
          "text": [
            "conda 24.5.0\n"
          ]
        }
      ]
    },
    {
      "cell_type": "code",
      "source": [
        "\n",
        "!conda env create --file environment.yml\n",
        "!source activate ldsc"
      ],
      "metadata": {
        "id": "LSIJOK_sDRvT"
      },
      "execution_count": null,
      "outputs": []
    },
    {
      "cell_type": "code",
      "source": [
        "!wget -qO- https://repo.anaconda.com/miniconda/Miniconda3-1atest-Linux-x86_64.sh | bash"
      ],
      "metadata": {
        "id": "-I2Utl__Eko4"
      },
      "execution_count": null,
      "outputs": []
    },
    {
      "cell_type": "code",
      "source": [
        "!git clone https://github.com/bulik/ldsc.git\n",
        "!cd ldsc\n",
        "\n",
        "!conda env create --file environment.yml #配置ldsc环境\n",
        "!source activate ldsc #激活ldsc环境\n",
        "!./ldsc.py -h #查看ldsc程序是否能正常运行\n",
        "!./munge_sumstats.py -h #查看munge_sumstats是否能正常运行"
      ],
      "metadata": {
        "id": "2ZhGOuZQGL5a"
      },
      "execution_count": null,
      "outputs": []
    },
    {
      "cell_type": "code",
      "source": [
        "!wget -c https://mirrors.bfsu.edu.cn/anaconda/miniconda/Miniconda3-latest-Linux-x86_64.sh"
      ],
      "metadata": {
        "id": "efbnSO0aHstC"
      },
      "execution_count": null,
      "outputs": []
    },
    {
      "cell_type": "code",
      "source": [
        "!bash Miniconda3-latest-Linux-x86_64.sh"
      ],
      "metadata": {
        "id": "q3CxgBg6JUhi"
      },
      "execution_count": null,
      "outputs": []
    },
    {
      "cell_type": "code",
      "source": [
        "!source /root/miniconda3/bin/activate"
      ],
      "metadata": {
        "id": "8MZlXU6eJ_Nb"
      },
      "execution_count": null,
      "outputs": []
    },
    {
      "cell_type": "code",
      "source": [
        "!conda env create --file environment.yml\n",
        "!source activate ldsc"
      ],
      "metadata": {
        "id": "Xunm-sfWLyw-"
      },
      "execution_count": null,
      "outputs": []
    },
    {
      "cell_type": "code",
      "source": [
        "!source ~/.bashrc\n"
      ],
      "metadata": {
        "id": "yZQEenvpL8p0"
      },
      "execution_count": null,
      "outputs": []
    },
    {
      "cell_type": "code",
      "source": [
        "!export PATH=\"/root/miniconda3/bin:$PATH\""
      ],
      "metadata": {
        "id": "xRkFOVywMQhz"
      },
      "execution_count": null,
      "outputs": []
    },
    {
      "cell_type": "code",
      "source": [
        "!conda info --envs"
      ],
      "metadata": {
        "colab": {
          "base_uri": "https://localhost:8080/"
        },
        "id": "iWvxFPgJM_39",
        "outputId": "74511527-1573-455b-cc12-ad73e3242c70"
      },
      "execution_count": null,
      "outputs": [
        {
          "output_type": "stream",
          "name": "stdout",
          "text": [
            "# conda environments:\n",
            "#\n",
            "base                     /usr/local\n",
            "\n"
          ]
        }
      ]
    },
    {
      "cell_type": "code",
      "source": [
        "!vim ~/.bashrc"
      ],
      "metadata": {
        "id": "qbOdpGS7NFGW"
      },
      "execution_count": null,
      "outputs": []
    },
    {
      "cell_type": "code",
      "source": [
        " !nano ~/.bashrc"
      ],
      "metadata": {
        "id": "NjnEh7OaNZLM"
      },
      "execution_count": null,
      "outputs": []
    },
    {
      "cell_type": "code",
      "source": [
        "!which conda"
      ],
      "metadata": {
        "id": "TwuhLNl3O2f1",
        "colab": {
          "base_uri": "https://localhost:8080/"
        },
        "outputId": "b7e8c72f-9aa4-46ca-96e1-81127d8d0d8c"
      },
      "execution_count": null,
      "outputs": [
        {
          "output_type": "stream",
          "name": "stdout",
          "text": [
            "/usr/local/bin/conda\n"
          ]
        }
      ]
    },
    {
      "cell_type": "code",
      "source": [
        "!wget -c https://repo.anaconda.com/miniconda/Miniconda3-py310_22.11.1-1-Linux-x86_64.sh\n",
        "!ls\n",
        "!chmod +x Miniconda3-py37_4.10.3-Linux-x86_64.sh\n"
      ],
      "metadata": {
        "id": "rFQSa2RJUkm-"
      },
      "execution_count": null,
      "outputs": []
    },
    {
      "cell_type": "code",
      "source": [
        "%env PYTHONPATH=\n",
        "!bash ./Miniconda3-py310_22.11.1-1-Linux-x86_64.sh -b -f -p /usr/local\n"
      ],
      "metadata": {
        "id": "yKctDnnxUl4Y"
      },
      "execution_count": null,
      "outputs": []
    },
    {
      "cell_type": "code",
      "source": [
        "!which conda\n",
        "!conda --version\n",
        "!which python\n",
        "!python -V\n"
      ],
      "metadata": {
        "colab": {
          "base_uri": "https://localhost:8080/"
        },
        "id": "qMrAYZ9ZUxR9",
        "outputId": "d50f37fa-0e33-42e8-8d10-05f6ec954209"
      },
      "execution_count": null,
      "outputs": [
        {
          "output_type": "stream",
          "name": "stdout",
          "text": [
            "/bin/bash: line 1: conda: command not found\n",
            "/usr/local/bin/python\n",
            "Python 3.10.12\n"
          ]
        }
      ]
    },
    {
      "cell_type": "code",
      "source": [
        "!conda update conda\n",
        "!conda update -n base -c defaults conda -y"
      ],
      "metadata": {
        "colab": {
          "base_uri": "https://localhost:8080/"
        },
        "id": "V-o2mcojWbQK",
        "outputId": "246e20bf-4461-415c-8b0f-0a3d3b70b982"
      },
      "execution_count": null,
      "outputs": [
        {
          "output_type": "stream",
          "name": "stdout",
          "text": [
            "Channels:\n",
            " - defaults\n",
            "Platform: linux-64\n",
            "Collecting package metadata (repodata.json): - \b\b\\ \b\b| \b\b/ \b\b- \b\b\\ \b\bdone\n",
            "Solving environment: / \b\b- \b\bdone\n",
            "\n",
            "# All requested packages already installed.\n",
            "\n"
          ]
        }
      ]
    },
    {
      "cell_type": "code",
      "source": [
        "! pip list\n"
      ],
      "metadata": {
        "id": "oiSj95qMU4Rb"
      },
      "execution_count": null,
      "outputs": []
    },
    {
      "cell_type": "code",
      "source": [
        "!which miniconda"
      ],
      "metadata": {
        "id": "1WiQr76rXtJH"
      },
      "execution_count": null,
      "outputs": []
    },
    {
      "cell_type": "code",
      "source": [],
      "metadata": {
        "id": "W_hnO6RTfTG_"
      },
      "execution_count": null,
      "outputs": []
    },
    {
      "cell_type": "code",
      "source": [
        "!rm -rf ~/miniconda3"
      ],
      "metadata": {
        "id": "8kWxsjziY31_"
      },
      "execution_count": null,
      "outputs": []
    },
    {
      "cell_type": "code",
      "source": [
        "from sys import version_info\n",
        "import sys\n",
        "\n",
        "python_version = f\"{version_info.major}.{version_info.minor}\"\n",
        "\n",
        "sys.path.insert(0, f'/usr/local/lib/python{python_version}/dist-packages/')\n",
        "sys.path.insert(0, f'/usr/local/lib/python{python_version}/site-packages/')"
      ],
      "metadata": {
        "id": "HFu5D_zVeiXB"
      },
      "execution_count": null,
      "outputs": []
    },
    {
      "cell_type": "code",
      "source": [
        "!wget -c https://repo.continuum.io/miniconda/Miniconda2-latest-Linux-x86_64.sh\n",
        "!chmod +x Miniconda2-latest-Linux-x86_64.sh\n",
        "!bash ./Miniconda2-latest-Linux-x86_64.sh -b -f -p /usr/local #-p indicates where you want to install"
      ],
      "metadata": {
        "id": "ta-r13jxeoFg",
        "colab": {
          "base_uri": "https://localhost:8080/"
        },
        "outputId": "efa307fa-4bda-4922-92a8-5b063422b25f"
      },
      "execution_count": 4,
      "outputs": [
        {
          "output_type": "stream",
          "name": "stdout",
          "text": [
            "--2024-07-14 12:43:40--  https://repo.continuum.io/miniconda/Miniconda2-latest-Linux-x86_64.sh\n",
            "Resolving repo.continuum.io (repo.continuum.io)... 104.18.177.84, 104.18.176.84, 2606:4700::6812:b154, ...\n",
            "Connecting to repo.continuum.io (repo.continuum.io)|104.18.177.84|:443... connected.\n",
            "HTTP request sent, awaiting response... 301 Moved Permanently\n",
            "Location: https://repo.anaconda.com/miniconda/Miniconda2-latest-Linux-x86_64.sh [following]\n",
            "--2024-07-14 12:43:40--  https://repo.anaconda.com/miniconda/Miniconda2-latest-Linux-x86_64.sh\n",
            "Resolving repo.anaconda.com (repo.anaconda.com)... 104.16.191.158, 104.16.32.241, 2606:4700::6810:bf9e, ...\n",
            "Connecting to repo.anaconda.com (repo.anaconda.com)|104.16.191.158|:443... connected.\n",
            "HTTP request sent, awaiting response... 200 OK\n",
            "Length: 51093759 (49M) [application/x-sh]\n",
            "Saving to: ‘Miniconda2-latest-Linux-x86_64.sh’\n",
            "\n",
            "Miniconda2-latest-L 100%[===================>]  48.73M   137MB/s    in 0.4s    \n",
            "\n",
            "2024-07-14 12:43:40 (137 MB/s) - ‘Miniconda2-latest-Linux-x86_64.sh’ saved [51093759/51093759]\n",
            "\n",
            "PREFIX=/usr/local\n",
            "Unpacking payload ...\n",
            "Collecting package metadata (current_repodata.json): - \b\b\\ \b\bdone\n",
            "Solving environment: / \b\b- \b\bdone\n",
            "\n",
            "## Package Plan ##\n",
            "\n",
            "  environment location: /usr/local\n",
            "\n",
            "  added / updated specs:\n",
            "    - _libgcc_mutex==0.1=main\n",
            "    - asn1crypto==1.3.0=py27_0\n",
            "    - ca-certificates==2020.1.1=0\n",
            "    - certifi==2019.11.28=py27_0\n",
            "    - cffi==1.14.0=py27he30daa8_1\n",
            "    - chardet==3.0.4=py27_1003\n",
            "    - conda-package-handling==1.6.0=py27h7b6447c_0\n",
            "    - conda==4.8.3=py27_0\n",
            "    - cryptography==2.8=py27h1ba5d50_0\n",
            "    - enum34==1.1.6=py27_1\n",
            "    - futures==3.3.0=py27_0\n",
            "    - idna==2.8=py27_0\n",
            "    - ipaddress==1.0.23=py_0\n",
            "    - libedit==3.1.20181209=hc058e9b_0\n",
            "    - libffi==3.3=he6710b0_1\n",
            "    - libgcc-ng==9.1.0=hdf63c60_0\n",
            "    - libstdcxx-ng==9.1.0=hdf63c60_0\n",
            "    - ncurses==6.2=he6710b0_1\n",
            "    - openssl==1.1.1g=h7b6447c_0\n",
            "    - pip==19.3.1=py27_0\n",
            "    - pycosat==0.6.3=py27h7b6447c_0\n",
            "    - pycparser==2.20=py_0\n",
            "    - pyopenssl==19.1.0=py27_0\n",
            "    - pysocks==1.7.1=py27_0\n",
            "    - python==2.7.18=h15b4118_1\n",
            "    - readline==8.0=h7b6447c_0\n",
            "    - requests==2.22.0=py27_1\n",
            "    - ruamel_yaml==0.15.87=py27h7b6447c_0\n",
            "    - setuptools==44.0.0=py27_0\n",
            "    - six==1.13.0=py27_0\n",
            "    - sqlite==3.31.1=h62c20be_1\n",
            "    - tk==8.6.8=hbc83047_0\n",
            "    - tqdm==4.46.0=py_0\n",
            "    - urllib3==1.25.7=py27_0\n",
            "    - wheel==0.33.6=py27_0\n",
            "    - yaml==0.1.7=had09818_2\n",
            "    - zlib==1.2.11=h7b6447c_3\n",
            "\n",
            "\n",
            "The following NEW packages will be INSTALLED:\n",
            "\n",
            "  _libgcc_mutex      pkgs/main/linux-64::_libgcc_mutex-0.1-main\n",
            "  asn1crypto         pkgs/main/linux-64::asn1crypto-1.3.0-py27_0\n",
            "  ca-certificates    pkgs/main/linux-64::ca-certificates-2020.1.1-0\n",
            "  certifi            pkgs/main/linux-64::certifi-2019.11.28-py27_0\n",
            "  cffi               pkgs/main/linux-64::cffi-1.14.0-py27he30daa8_1\n",
            "  chardet            pkgs/main/linux-64::chardet-3.0.4-py27_1003\n",
            "  conda              pkgs/main/linux-64::conda-4.8.3-py27_0\n",
            "  conda-package-han~ pkgs/main/linux-64::conda-package-handling-1.6.0-py27h7b6447c_0\n",
            "  cryptography       pkgs/main/linux-64::cryptography-2.8-py27h1ba5d50_0\n",
            "  enum34             pkgs/main/linux-64::enum34-1.1.6-py27_1\n",
            "  futures            pkgs/main/linux-64::futures-3.3.0-py27_0\n",
            "  idna               pkgs/main/linux-64::idna-2.8-py27_0\n",
            "  ipaddress          pkgs/main/noarch::ipaddress-1.0.23-py_0\n",
            "  libedit            pkgs/main/linux-64::libedit-3.1.20181209-hc058e9b_0\n",
            "  libffi             pkgs/main/linux-64::libffi-3.3-he6710b0_1\n",
            "  libgcc-ng          pkgs/main/linux-64::libgcc-ng-9.1.0-hdf63c60_0\n",
            "  libstdcxx-ng       pkgs/main/linux-64::libstdcxx-ng-9.1.0-hdf63c60_0\n",
            "  ncurses            pkgs/main/linux-64::ncurses-6.2-he6710b0_1\n",
            "  openssl            pkgs/main/linux-64::openssl-1.1.1g-h7b6447c_0\n",
            "  pip                pkgs/main/linux-64::pip-19.3.1-py27_0\n",
            "  pycosat            pkgs/main/linux-64::pycosat-0.6.3-py27h7b6447c_0\n",
            "  pycparser          pkgs/main/noarch::pycparser-2.20-py_0\n",
            "  pyopenssl          pkgs/main/linux-64::pyopenssl-19.1.0-py27_0\n",
            "  pysocks            pkgs/main/linux-64::pysocks-1.7.1-py27_0\n",
            "  python             pkgs/main/linux-64::python-2.7.18-h15b4118_1\n",
            "  readline           pkgs/main/linux-64::readline-8.0-h7b6447c_0\n",
            "  requests           pkgs/main/linux-64::requests-2.22.0-py27_1\n",
            "  ruamel_yaml        pkgs/main/linux-64::ruamel_yaml-0.15.87-py27h7b6447c_0\n",
            "  setuptools         pkgs/main/linux-64::setuptools-44.0.0-py27_0\n",
            "  six                pkgs/main/linux-64::six-1.13.0-py27_0\n",
            "  sqlite             pkgs/main/linux-64::sqlite-3.31.1-h62c20be_1\n",
            "  tk                 pkgs/main/linux-64::tk-8.6.8-hbc83047_0\n",
            "  tqdm               pkgs/main/noarch::tqdm-4.46.0-py_0\n",
            "  urllib3            pkgs/main/linux-64::urllib3-1.25.7-py27_0\n",
            "  wheel              pkgs/main/linux-64::wheel-0.33.6-py27_0\n",
            "  yaml               pkgs/main/linux-64::yaml-0.1.7-had09818_2\n",
            "  zlib               pkgs/main/linux-64::zlib-1.2.11-h7b6447c_3\n",
            "\n",
            "\n",
            "Preparing transaction: | \b\b/ \b\b- \b\b\\ \b\b| \b\b/ \b\bdone\n",
            "Executing transaction: \\ \b\b| \b\b/ \b\b- \b\b\\ \b\b| \b\b/ \b\b- \b\b\\ \b\b| \b\b/ \b\b- \b\b\\ \b\b| \b\b/ \b\b- \b\b\\ \b\b| \b\b/ \b\bdone\n",
            "installation finished.\n",
            "WARNING:\n",
            "    You currently have a PYTHONPATH environment variable set. This may cause\n",
            "    unexpected behavior when running the Python interpreter in Miniconda2.\n",
            "    For best results, please verify that your PYTHONPATH only points to\n",
            "    directories of packages that are compatible with the Python interpreter\n",
            "    in Miniconda2: /usr/local\n"
          ]
        }
      ]
    },
    {
      "cell_type": "code",
      "source": [
        "import torch\n",
        "torch.__version__"
      ],
      "metadata": {
        "colab": {
          "base_uri": "https://localhost:8080/",
          "height": 35
        },
        "id": "4CbTRsEcqEp8",
        "outputId": "b632d6e2-2573-4ab1-bced-5c6198db3e3a"
      },
      "execution_count": null,
      "outputs": [
        {
          "output_type": "execute_result",
          "data": {
            "text/plain": [
              "'2.3.0+cu121'"
            ],
            "application/vnd.google.colaboratory.intrinsic+json": {
              "type": "string"
            }
          },
          "metadata": {},
          "execution_count": 2
        }
      ]
    },
    {
      "cell_type": "code",
      "source": [
        "!conda env list\n"
      ],
      "metadata": {
        "colab": {
          "base_uri": "https://localhost:8080/"
        },
        "id": "7h9xkVDuq4ZU",
        "outputId": "27382379-57d6-47c8-9459-b4d162d754f4"
      },
      "execution_count": null,
      "outputs": [
        {
          "output_type": "stream",
          "name": "stdout",
          "text": [
            "# conda environments:\n",
            "#\n",
            "base                     /usr/local\n",
            "\n"
          ]
        }
      ]
    },
    {
      "cell_type": "code",
      "source": [
        "!which conda\n",
        "!conda --version\n",
        "!which python\n",
        "!python -V\n",
        "!conda search python"
      ],
      "metadata": {
        "colab": {
          "base_uri": "https://localhost:8080/"
        },
        "id": "vTaSiCAOtyql",
        "outputId": "54dacb6b-0bca-4620-e800-d54e72efb21b"
      },
      "execution_count": 51,
      "outputs": [
        {
          "output_type": "stream",
          "name": "stdout",
          "text": [
            "Python 2.7.18 :: Anaconda, Inc.\n"
          ]
        }
      ]
    },
    {
      "cell_type": "code",
      "source": [
        "import sys\n",
        "sys.path"
      ],
      "metadata": {
        "id": "uy5hxq_Nt-eg"
      },
      "execution_count": null,
      "outputs": []
    },
    {
      "cell_type": "code",
      "source": [
        "!conda info -e"
      ],
      "metadata": {
        "colab": {
          "base_uri": "https://localhost:8080/"
        },
        "id": "j0Xh04pDuV9n",
        "outputId": "ea325e8e-58b7-429a-e71b-f077a2b2954d"
      },
      "execution_count": 42,
      "outputs": [
        {
          "output_type": "stream",
          "name": "stdout",
          "text": [
            "# conda environments:\n",
            "#\n",
            "base                  *  /usr/local\n",
            "ldsc                     /usr/local/envs/ldsc\n",
            "\n"
          ]
        }
      ]
    },
    {
      "cell_type": "code",
      "source": [
        "!conda remove -n ldsc --all"
      ],
      "metadata": {
        "id": "36llYwonvoUV"
      },
      "execution_count": null,
      "outputs": []
    },
    {
      "cell_type": "code",
      "source": [
        "!sudo apt-get update\n",
        "!sudo apt-get install --reinstallbuild-essential"
      ],
      "metadata": {
        "id": "VYYIMDHQwsOW"
      },
      "execution_count": null,
      "outputs": []
    },
    {
      "cell_type": "code",
      "source": [
        "%cd /usr/local/envs/ldsc\n",
        "!conda create --name ldsc\n",
        "!source activate ldsc #激活并进入ldsc环境"
      ],
      "metadata": {
        "id": "5eHKBEY2w50N"
      },
      "execution_count": null,
      "outputs": []
    },
    {
      "cell_type": "code",
      "source": [
        "!conda config --add channels bioconda\n",
        "#!conda config --add channels http://mirrors.ustc.edu.cn/anaconda/cloud/bioconda/\n",
        "!conda config --remove channels http://bioconda.github.io/\n",
        "!conda config --remove channels http://mirrors.ustc.edu.cn/anaconda/cloud/bioconda/\n",
        "!conda config --remove channels https://mirrors.tuna.tsinghua.edu.cn/anaconda/pkgs/free/\n",
        "!conda config --remove channels https://mirrors.tuna.tsinghua.edu.cn/anaconda/pkgs/main/\n",
        "!conda config --remove channels https://mirrors.tuna.tsinghua.edu.cn/anaconda/cloud/bioconda\n",
        "!conda config --remove channels https://mirrors.tuna.tsinghua.edu.cn/anaconda/cloud/conda-forge/"
      ],
      "metadata": {
        "id": "bjf5VtMcxLR-"
      },
      "execution_count": null,
      "outputs": []
    },
    {
      "cell_type": "code",
      "source": [
        "!conda install python=2.7 #安装python 2.7\n",
        "!conda install pybedtools=0.7 #安装pybedtools 0.7\n",
        "!conda install nose=1.3 #安装nose 1.3\n",
        "!conda install bitarray=0.8 #安装 bitarray 0.8\n",
        "!pip install scipy==0.18 #安装scipy 0.18\n",
        "!pip install pandas==0.20 # 安装pandas 0.20\n",
        "!pip install numpy==1.16 #安装numpy 1.16\n",
        "!export PATH=~/ldsc:$PATH #配置环境变量\n",
        "!echo $PATH"
      ],
      "metadata": {
        "id": "HjMwO-Q-xMfF"
      },
      "execution_count": null,
      "outputs": []
    },
    {
      "cell_type": "code",
      "source": [
        "!git clone https://github.com/bulik/ldsc.git\n",
        "!conda remove --name ldsc --all\n",
        "!git clone https://github.com/bulik/ldsc.git /usr/local/envs/ldsc\n",
        "%cd /usr/local/envs/ldsc\n",
        "!conda env create --file environment.yml\n",
        "!source activate ldsc\n",
        "%cd /usr/local/envs/ldsc\n",
        "!conda install python=2.7.16\n",
        "#py -2.7.16 -s\n",
        "%cd /usr/bin/\n",
        "!ls | grep python\n",
        "\n",
        "!export PATH=~/ldsc:$PATH #配置环境变量\n",
        "!echo $PATH\n",
        "from __future__ import print_function\n",
        "## 更新numpy\n",
        "pip install --upgrade numpy==1.16.0\n",
        "\n",
        "%cd /usr/lib\n",
        "import sys\n",
        "sys.path\n",
        "import sys\n",
        "pythonpath = sys.executable\n",
        "print(pythonpath)\n",
        "sys.path.append(\"/usr/lib/python2.6/site-packages\")\n",
        "from bitarray import bitarray\n",
        "!./ldsc.py -h\n",
        "!./munge_sumstats.py -h"
      ],
      "metadata": {
        "id": "gLdkole97erZ",
        "colab": {
          "base_uri": "https://localhost:8080/"
        },
        "outputId": "3cf92d14-de8e-4b5a-b726-2961bb229479"
      },
      "execution_count": 56,
      "outputs": [
        {
          "output_type": "stream",
          "name": "stdout",
          "text": [
            "/bin/bash: line 1: ./ldsc.py: No such file or directory\n"
          ]
        }
      ]
    },
    {
      "cell_type": "code",
      "source": [
        "!conda create -n py27 python=2.7\n",
        "\n",
        "\n",
        "\n",
        "\n",
        "\n",
        "\n",
        "\n",
        "\n",
        "!update-alternatives --install /usr/bin/python python /usr/bin/python2.7 1\n",
        "!update-alternatives --install /usr/bin/python python /usr/bin/python3 2\n",
        "!update-alternatives --install /usr/bin/python python /usr/bin/python3.10 3\n",
        "!update-alternatives --config python\n",
        "!update-alternatives --list python\n",
        "import sys\n",
        "print(sys.version)\n",
        "# %tensorflow_version 2.7\n",
        "!sudo update-alternatives --install /usr/bin/python3 python3 /usr/bin/python2.7 1\n",
        "!python -m pip uninstall pip\n",
        "!sudo update-alternatives --remove python /usr/local/bin/python\n",
        "!sudo apt install python2.7\n",
        "!update-alternatives --install /usr/local/bin/python2 python2 /usr/bin/python2.7 1\n",
        "!wget https://bootstrap.pypa.io/pip/2.7/get-pip.py\n",
        "!python get-pip.py\n",
        "!python -V\n",
        "# !sudo update-alternatives --config python2.7.16\n",
        "# !conda create -n myenv python=2.7.16\n",
        "# !source activate myenv\n",
        "# !python --version\n",
        "!apt-get install python2.7"
      ],
      "metadata": {
        "id": "eNBvB1s68-6d",
        "colab": {
          "base_uri": "https://localhost:8080/"
        },
        "outputId": "8774eaf0-8bc2-4461-f392-a3dcecf8629e"
      },
      "execution_count": 25,
      "outputs": [
        {
          "output_type": "stream",
          "name": "stdout",
          "text": [
            "Python 2.7.18 :: Anaconda, Inc.\n"
          ]
        }
      ]
    },
    {
      "cell_type": "code",
      "source": [
        "!git clone https://github.com/pyenv/pyenv.git ~/.pyenv\n",
        "!echo 'export PYENV_ROOT=\"$HOME/.pyenv\"' >> ~/.config/colabnotebooks/environment.yaml\n",
        "!echo 'export PATH=\"$PYENV_ROOT/bin:$PATH\"' >> ~/.config/colabnotebooks/environment.yaml\n",
        "!echo 'eval \"$(pyenv init --path)\"' >> ~/.config/colabnotebooks/environment.yaml\n",
        "!pyenv rehash"
      ],
      "metadata": {
        "id": "SHbMAjscwl6-"
      },
      "execution_count": null,
      "outputs": []
    },
    {
      "cell_type": "code",
      "source": [
        "diff --git a/munge_sumstats.py b/munge_sumstats.py\n",
        "index a683e88..324a890 100755\n",
        "--- a/munge_sumstats.py\n",
        "+++ b/munge_sumstats.py\n",
        "@@ -580,21 +580,19 @@ def munge_sumstats(args, p=True):\n",
        "\n",
        "             cname_map[frq_u] = 'FRQ'\n",
        "\n",
        "-\tif args.daner_n:\n",
        "-\t    frq_u = filter(lambda x: x.startswith('FRQ_U_'), file_cnames)[0]\n",
        "-\t    cname_map[frq_u] = 'FRQ'\n",
        "-\t    try:\n",
        "-\t        dan_cas = clean_header(file_cnames[file_cnames.index('Nca')])\n",
        "-\t    except ValueError:\n",
        "-\t        raise ValueError('Could not find Nca column expected for daner-n format')\n",
        "-\n",
        "-\t    try:\n",
        "-\t        dan_con = clean_header(file_cnames[file_cnames.index('Nco')])\n",
        "-\t    except ValueError:\n",
        "-\t        raise ValueError('Could not find Nco column expected for daner-n format')\n",
        "-\n",
        "+        if args.daner_n:\n",
        "+            frq_u = filter(lambda x: x.startswith('FRQ_U_'), file_cnames)[0]\n",
        "+            cname_map[frq_u] = 'FRQ'\n",
        "+            try:\n",
        "+                dan_cas = clean_header(file_cnames[file_cnames.index('Nca')])\n",
        "+            except ValueError:\n",
        "+                raise ValueError('Could not find Nca column expected for daner-n format')\n",
        "+            try:\n",
        "+                dan_con = clean_header(file_cnames[file_cnames.index('Nco')])\n",
        "+            except ValueError:\n",
        "+                raise ValueError('Could not find Nco column expected for daner-n format')\n",
        "             cname_map[dan_cas] = 'N_CAS'\n",
        "-\t    cname_map[dan_con] = 'N_CON'\n",
        "+            cname_map[dan_con] = 'N_CON'\n",
        "\n",
        "         cname_translation = {x: cname_map[clean_header(x)] for x in file_cnames if\n",
        "                              clean_header(x) in cname_map}  # note keys not cleaned\n",
        "@@ -627,15 +625,15 @@ def munge_sumstats(args, p=True):\n",
        "                 raise ValueError('Could not find {C} column.'.format(C=c))\n",
        "\n",
        "         # check aren't any duplicated column names in mapping\n",
        "-\tfor field in cname_translation:\n",
        "-\t    numk = file_cnames.count(field)\n",
        "-\t    if numk > 1:\n",
        "-\t\traise ValueError('Found {num} columns named {C}'.format(C=field,num=str(numk)))\n",
        "+        for field in cname_translation:\n",
        "+            numk = file_cnames.count(field)\n",
        "+            if numk > 1:\n",
        "+                raise ValueError('Found {num} columns named {C}'.format(C=field,num=str(numk)))\n",
        "\n",
        "         # check multiple different column names don't map to same data field\n",
        "         for head in cname_translation.values():\n",
        "             numc = cname_translation.values().count(head)\n",
        "-\t    if numc > 1:\n",
        "+            if numc > 1:\n",
        "                 raise ValueError('Found {num} different {C} columns'.format(C=head,num=str(numc)))\n",
        "\n",
        "         if (not args.N) and (not (args.N_cas and args.N_con)) and ('N' not in cname_translation.values()) and\\"
      ],
      "metadata": {
        "id": "KkEqzojhojuG"
      },
      "execution_count": null,
      "outputs": []
    },
    {
      "cell_type": "code",
      "source": [
        "!python ldsc.py  --bfile 22  --l2 --ld-wind-cm 1  --out 22"
      ],
      "metadata": {
        "id": "v5malkCUkEJk"
      },
      "execution_count": null,
      "outputs": []
    },
    {
      "cell_type": "code",
      "source": [
        "!pip install ldsc"
      ],
      "metadata": {
        "id": "o50r9rrYhfJl"
      },
      "execution_count": null,
      "outputs": []
    },
    {
      "cell_type": "code",
      "source": [
        "! conda info --env\n"
      ],
      "metadata": {
        "colab": {
          "base_uri": "https://localhost:8080/"
        },
        "id": "rGaCYR9ef4y1",
        "outputId": "d4c9d6bb-33ce-40f2-e6ef-a010005522bd"
      },
      "execution_count": 15,
      "outputs": [
        {
          "output_type": "stream",
          "name": "stdout",
          "text": [
            "# conda environments:\n",
            "#\n",
            "base                  *  /usr/local\n",
            "ldsc                     /usr/local/envs/ldsc\n",
            "\n"
          ]
        }
      ]
    },
    {
      "cell_type": "code",
      "source": [
        "!wget -c https://repo.anaconda.com/archive/Anaconda2-2019.10-Linux-x86_64.sh\n",
        "!chmod +x Anaconda2-2019.10-Linux-x86_64.sh\n",
        "!bash ./Anaconda2-2019.10-Linux-x86_64.sh -b -f -p /usr/local\n",
        "\n",
        "!conda env create --file environment.yml\n",
        "!source activate ldsc\n",
        "!./ldsc.py -h"
      ],
      "metadata": {
        "colab": {
          "base_uri": "https://localhost:8080/"
        },
        "id": "5hVvuvascrXU",
        "outputId": "75e731ed-54b0-4359-debe-4b09c3df6b61"
      },
      "execution_count": null,
      "outputs": [
        {
          "output_type": "stream",
          "name": "stdout",
          "text": [
            "/bin/bash: line 1: ./ldsc.py: No such file or directory\n"
          ]
        }
      ]
    },
    {
      "cell_type": "code",
      "source": [
        "!wget -c https://repo.continuum.io/miniconda/Miniconda3-latest-Linux-x86_64.sh\n",
        "!chmod +x Miniconda3-latest-Linux-x86_64.sh\n",
        "!bash ./Miniconda3-latest-Linux-x86_64.sh -b -f -p /usr/local #-p indicates where you want to install"
      ],
      "metadata": {
        "id": "oTRYLBBScx0s"
      },
      "execution_count": null,
      "outputs": []
    },
    {
      "cell_type": "code",
      "source": [
        "! /content/ldsc/ldsc.py -h\n",
        "!./munge_sumstats.py -h\n",
        "!ldsc.py -h"
      ],
      "metadata": {
        "colab": {
          "base_uri": "https://localhost:8080/"
        },
        "id": "-iib3Q7Q7y9q",
        "outputId": "669dbd1a-4a88-4f67-9533-3cbb27cb243e"
      },
      "execution_count": null,
      "outputs": [
        {
          "output_type": "stream",
          "name": "stdout",
          "text": [
            "/bin/bash: line 1: ldsc.py: command not found\n"
          ]
        }
      ]
    },
    {
      "cell_type": "code",
      "source": [
        "!conda create --name ldsc\n",
        "!source activate ldsc #激活并进入ldsc环境\n",
        "!conda config --add channels bioconda\n",
        "!conda config --add channels\n",
        "#清华源：\n",
        "!conda config --add channels https://mirrors.tuna.tsinghua.edu.cn/anaconda/pkgs/free/\n",
        "!conda config --add channels https://mirrors.tuna.tsinghua.edu.cn/anaconda/pkgs/main/\n",
        "!conda config --add channels https://mirrors.tuna.tsinghua.edu.cn/anaconda/cloud/pytorch/\n",
        "!conda config --set show_channel_urls yes\n",
        "\n",
        "\n",
        "\n",
        "\n",
        "!conda install python=2.7 #安装python 2.7\n",
        "!conda install pybedtools=0.7 #安装pybedtools 0.7\n",
        "!conda install nose=1.3 #安装nose 1.3\n",
        "!conda install bitarray=0.8 #安装 bitarray 0.8\n",
        "!pip install scipy==0.18 #安装scipy 0.18\n",
        "!pip install pandas==0.20 # 安装pandas 0.20\n",
        "'''pandas 安装会报错，不影响'''\n",
        "!pip install numpy==1.16 #安装numpy 1.16\n",
        "!export PATH=~/ldsc:$PATH #配置环境变量\n",
        "!echo $PATH\n",
        "\n",
        "!sudo apt install git #安装git\n",
        "!git clone https://github.com/bulik/ldsc.git /usr/local/envs/ldsc #下载ldsc\n",
        "%cd /usr/local/envs/ldsc #进入ldsc文件夹\n",
        "\n",
        "!./ldsc.py -h #查看ldsc程序是否能正常运行\n",
        "!/usr/local/envs/ldsc/ldsc.py -h #查看ldsc程序是否能正常运行\n",
        "!./munge_sumstats.py -h #查看munge_sumstats是否能正常运行\n",
        "!source activate ldsc\n",
        "# !for q in $(seq 1 18); do plink --bfile file --chr $q --make-bed --out chr$q done\n",
        "# !for q in $(seq 1 18); do ./ldsc.py --bfile chr$q --l2 --ld-wind-cm 5 --yes-really --out chr/$q; done\n",
        "# !./ldsc.py --h2 adg-YY-1151.sumstats.gz --ref-ld-chr ./chr/ --w-ld-chr ./chr/ --out adg-YY-1151_h2\n",
        "# !less adg-YY-1151_h2.log\n",
        "\n",
        "\n",
        "!python ldsc.py  --bfile 22  --l2 --ld-wind-cm 1  --out 22\n",
        "python munge_sumstats.py \\\n",
        "--sumstats gwas.txt \\\n",
        "--N 2000 \\\n",
        "--out test\n"
      ],
      "metadata": {
        "colab": {
          "base_uri": "https://localhost:8080/"
        },
        "id": "cuGVlu_8O4lG",
        "outputId": "591e017e-c6ed-4482-a095-6b72832a11d1"
      },
      "execution_count": 70,
      "outputs": [
        {
          "output_type": "stream",
          "name": "stdout",
          "text": [
            "*********************************************************************\n",
            "* LD Score Regression (LDSC)\n",
            "* Version 1.0.1\n",
            "* (C) 2014-2019 Brendan Bulik-Sullivan and Hilary Finucane\n",
            "* Broad Institute of MIT and Harvard / MIT Department of Mathematics\n",
            "* GNU General Public License v3\n",
            "*********************************************************************\n",
            "Call: \n",
            "./ldsc.py \\\n",
            "--ld-wind-cm 1.0 \\\n",
            "--out 22 \\\n",
            "--bfile 22 \\\n",
            "--l2  \n",
            "\n",
            "Beginning analysis at Sun Jul 14 15:57:15 2024\n",
            "Traceback (most recent call last):\n",
            "  File \"ldsc.py\", line 620, in <module>\n",
            "    ldscore(args, log)\n",
            "  File \"ldsc.py\", line 135, in ldscore\n",
            "    array_snps = snp_obj(snp_file)\n",
            "  File \"/usr/local/envs/ldsc/ldscore/parse.py\", line 256, in __init__\n",
            "    self.__read__(fname)\n",
            "  File \"/usr/local/envs/ldsc/ldscore/parse.py\", line 266, in __read__\n",
            "    delim_whitespace=True, compression=comp)\n",
            "  File \"/usr/local/lib/python2.7/site-packages/pandas/io/parsers.py\", line 655, in parser_f\n",
            "    return _read(filepath_or_buffer, kwds)\n",
            "  File \"/usr/local/lib/python2.7/site-packages/pandas/io/parsers.py\", line 405, in _read\n",
            "    parser = TextFileReader(filepath_or_buffer, **kwds)\n",
            "  File \"/usr/local/lib/python2.7/site-packages/pandas/io/parsers.py\", line 762, in __init__\n",
            "    self._make_engine(self.engine)\n",
            "  File \"/usr/local/lib/python2.7/site-packages/pandas/io/parsers.py\", line 966, in _make_engine\n",
            "    self._engine = CParserWrapper(self.f, **self.options)\n",
            "  File \"/usr/local/lib/python2.7/site-packages/pandas/io/parsers.py\", line 1582, in __init__\n",
            "    self._reader = parsers.TextReader(src, **kwds)\n",
            "  File \"pandas/_libs/parsers.pyx\", line 394, in pandas._libs.parsers.TextReader.__cinit__ (pandas/_libs/parsers.c:4209)\n",
            "  File \"pandas/_libs/parsers.pyx\", line 710, in pandas._libs.parsers.TextReader._setup_parser_source (pandas/_libs/parsers.c:8873)\n",
            "IOError: File 22.bim does not exist\n",
            "\n",
            "Analysis finished at Sun Jul 14 15:57:15 2024\n",
            "Total time elapsed: 0.0s\n",
            "Traceback (most recent call last):\n",
            "  File \"ldsc.py\", line 620, in <module>\n",
            "    ldscore(args, log)\n",
            "  File \"ldsc.py\", line 135, in ldscore\n",
            "    array_snps = snp_obj(snp_file)\n",
            "  File \"/usr/local/envs/ldsc/ldscore/parse.py\", line 256, in __init__\n",
            "    self.__read__(fname)\n",
            "  File \"/usr/local/envs/ldsc/ldscore/parse.py\", line 266, in __read__\n",
            "    delim_whitespace=True, compression=comp)\n",
            "  File \"/usr/local/lib/python2.7/site-packages/pandas/io/parsers.py\", line 655, in parser_f\n",
            "    return _read(filepath_or_buffer, kwds)\n",
            "  File \"/usr/local/lib/python2.7/site-packages/pandas/io/parsers.py\", line 405, in _read\n",
            "    parser = TextFileReader(filepath_or_buffer, **kwds)\n",
            "  File \"/usr/local/lib/python2.7/site-packages/pandas/io/parsers.py\", line 762, in __init__\n",
            "    self._make_engine(self.engine)\n",
            "  File \"/usr/local/lib/python2.7/site-packages/pandas/io/parsers.py\", line 966, in _make_engine\n",
            "    self._engine = CParserWrapper(self.f, **self.options)\n",
            "  File \"/usr/local/lib/python2.7/site-packages/pandas/io/parsers.py\", line 1582, in __init__\n",
            "    self._reader = parsers.TextReader(src, **kwds)\n",
            "  File \"pandas/_libs/parsers.pyx\", line 394, in pandas._libs.parsers.TextReader.__cinit__ (pandas/_libs/parsers.c:4209)\n",
            "  File \"pandas/_libs/parsers.pyx\", line 710, in pandas._libs.parsers.TextReader._setup_parser_source (pandas/_libs/parsers.c:8873)\n",
            "IOError: File 22.bim does not exist\n"
          ]
        }
      ]
    }
  ],
  "metadata": {
    "colab": {
      "provenance": [],
      "history_visible": true,
      "mount_file_id": "1WueQmUvWEww3YJoIaqFqaDrhO_2quYqF",
      "authorship_tag": "ABX9TyPpVa4o3W9fbHzAAZ6rN4IG"
    },
    "kernelspec": {
      "display_name": "Python 3",
      "name": "python3"
    },
    "language_info": {
      "name": "python"
    }
  },
  "nbformat": 4,
  "nbformat_minor": 0
}